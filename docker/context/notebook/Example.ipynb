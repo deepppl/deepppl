{
 "cells": [
  {
   "cell_type": "markdown",
   "metadata": {},
   "source": [
    "# Example notebook\n",
    "\n",
    "This example is based on the aspirin test case. The code here is mostly adapted from the existing test infrastructure.\n",
    "\n",
    "Here is the code copied from `<>/deepppl/deepppl/tests/inference`.\n",
    "\n",
    "```\n",
    "from .harness import MCMCTest\n",
    "import numpy as np\n",
    "from pprint import pprint\n",
    "\n",
    "# Warning: Generated quantities does not work with numpyro on this example\n",
    "# (In place mutation of array)\n",
    "\n",
    "def test_aspirin():\n",
    "    data = {}\n",
    "    data['y'] = [2.77, 2.50, 1.84, 2.56, 2.31, -1.15]\n",
    "    data['s'] = [1.65, 1.31, 2.34, 1.67, 1.98, 0.90]\n",
    "    data['N'] = len(data['y'])\n",
    "    data['mu_loc'] = np.mean(data['y'])\n",
    "    data['mu_scale'] = 5 * np.std(data['y'])\n",
    "    data['tau_scale'] = 2.5 * np.std(data['y'])\n",
    "    data['tau_df'] = 4\n",
    "     \n",
    "    t_aspirin = MCMCTest(\n",
    "        name='aspirin',\n",
    "        model_file='deepppl/tests/good/aspirin.stan',\n",
    "        data=data\n",
    "    )\n",
    "\n",
    "    return t_aspirin.run()\n",
    "    \n",
    "if __name__ == \"__main__\":\n",
    "    pprint(test_aspirin())\n",
    "```\n",
    "\n",
    "The file `harness.py` has the data class that controls the test (`MCMCTest`), including the compile of stan, the execution through pyro and the comparison with the vanilla stan implementation.\n",
    "\n",
    "Below is an example based on what `harness` implements.\n",
    "\n"
   ]
  },
  {
   "cell_type": "markdown",
   "metadata": {},
   "source": [
    "## Setup the data"
   ]
  },
  {
   "cell_type": "code",
   "execution_count": null,
   "metadata": {},
   "outputs": [],
   "source": [
    "import numpy as np\n",
    "\n",
    "data = {}\n",
    "data['y'] = [2.77, 2.50, 1.84, 2.56, 2.31, -1.15]\n",
    "data['s'] = [1.65, 1.31, 2.34, 1.67, 1.98, 0.90]\n",
    "data['N'] = len(data['y'])\n",
    "data['mu_loc'] = np.mean(data['y'])\n",
    "data['mu_scale'] = 5 * np.std(data['y'])\n",
    "data['tau_scale'] = 2.5 * np.std(data['y'])\n",
    "data['tau_df'] = 4"
   ]
  },
  {
   "cell_type": "markdown",
   "metadata": {},
   "source": [
    "## Setup model"
   ]
  },
  {
   "cell_type": "code",
   "execution_count": null,
   "metadata": {},
   "outputs": [],
   "source": [
    "# Configuration\n",
    "\n",
    "from dataclasses import dataclass, field\n",
    "import time\n",
    "@dataclass\n",
    "class Config:\n",
    "    iterations: int = 1000\n",
    "    warmups: int = 10\n",
    "    chains: int = 4\n",
    "    thin: int = 2\n",
    "    file: str = \"../deepppl/deepppl/tests/good/aspirin.stan\"\n",
    "    \n",
    "@dataclass\n",
    "class TimeIt:\n",
    "    name: str\n",
    "\n",
    "    def __enter__(self):\n",
    "        self.start = time.perf_counter()\n",
    "\n",
    "    def __exit__(self, *exc_info):\n",
    "        print(f\"{self.name} took {time.perf_counter() - self.start}s to complete.\")\n",
    "\n",
    "import numpyro\n",
    "import jax\n",
    "\n",
    "# Request use the GPU\n",
    "numpyro.set_platform(\"gpu\")\n",
    "print(f\"jax version: {jax.__version__}\")\n",
    "print(f\"numpyro version: {numpyro.__version__}\")\n",
    "print(f\"jax target backend: {jax.config.FLAGS.jax_backend_target}\")\n",
    "print(f\"jax target device: {jax.lib.xla_bridge.get_backend().platform}\")\n",
    "\n",
    "from deepppl import PyroModel, NumPyroModel"
   ]
  },
  {
   "cell_type": "code",
   "execution_count": null,
   "metadata": {},
   "outputs": [],
   "source": [
    "with open(Config.file, 'r') as f:\n",
    "    print(f.read())"
   ]
  },
  {
   "cell_type": "markdown",
   "metadata": {},
   "source": [
    "## Pyro run"
   ]
  },
  {
   "cell_type": "code",
   "execution_count": null,
   "metadata": {},
   "outputs": [],
   "source": [
    "with TimeIt('Pyro model obj creation'):\n",
    "    pyro_model = PyroModel(model_file=Config.file)"
   ]
  },
  {
   "cell_type": "code",
   "execution_count": null,
   "metadata": {},
   "outputs": [],
   "source": [
    "with TimeIt('Pyro model configuration'):\n",
    "    pyro_mcmc = pyro_model.mcmc(Config.iterations, Config.warmups, num_chains=Config.chains, thin=Config.thin)"
   ]
  },
  {
   "cell_type": "code",
   "execution_count": null,
   "metadata": {},
   "outputs": [],
   "source": [
    "with TimeIt('Pyro model run'):\n",
    "    pyro_mcmc.run(**data)"
   ]
  },
  {
   "cell_type": "code",
   "execution_count": null,
   "metadata": {},
   "outputs": [],
   "source": [
    "with TimeIt('Pyro model get samples'):\n",
    "    pyro_samples = pyro_mcmc.get_samples()"
   ]
  },
  {
   "cell_type": "markdown",
   "metadata": {},
   "source": [
    "## Numpyro run"
   ]
  },
  {
   "cell_type": "code",
   "execution_count": null,
   "metadata": {},
   "outputs": [],
   "source": [
    "with TimeIt('Numpyro model obj creation'):\n",
    "    numpyro_model = NumPyroModel(model_file=Config.file)"
   ]
  },
  {
   "cell_type": "code",
   "execution_count": null,
   "metadata": {},
   "outputs": [],
   "source": [
    "with TimeIt('Numpyro model configuration'):\n",
    "    numpyro_mcmc = numpyro_model.mcmc(Config.iterations, Config.warmups, num_chains=Config.chains, thin=Config.thin)"
   ]
  },
  {
   "cell_type": "code",
   "execution_count": null,
   "metadata": {},
   "outputs": [],
   "source": [
    "#Run with timer\n",
    "import cProfile\n",
    "\n",
    "p = cProfile.Profile()\n",
    "p.enable()\n",
    "numpyro_mcmc.run(**data)\n",
    "p.disable\n"
   ]
  },
  {
   "cell_type": "code",
   "execution_count": null,
   "metadata": {},
   "outputs": [],
   "source": [
    "#Run with stats collection\n",
    "import pstats\n",
    "import io\n",
    "\n",
    "stats = pstats.Stats(p).sort_stats(pstats.SortKey.TIME)\n",
    "stats.print_stats()"
   ]
  },
  {
   "cell_type": "code",
   "execution_count": null,
   "metadata": {},
   "outputs": [],
   "source": [
    "with TimeIt('Numpyro model run'):\n",
    "    numpyro_mcmc.run(**data)"
   ]
  },
  {
   "cell_type": "code",
   "execution_count": null,
   "metadata": {},
   "outputs": [],
   "source": [
    "with TimeIt('Numpyro model get samples'):\n",
    "    numpyro_samples = numpyro_mcmc.get_samples()"
   ]
  },
  {
   "cell_type": "code",
   "execution_count": null,
   "metadata": {},
   "outputs": [],
   "source": []
  }
 ],
 "metadata": {
  "kernelspec": {
   "display_name": "Python 3",
   "language": "python",
   "name": "python3"
  },
  "language_info": {
   "codemirror_mode": {
    "name": "ipython",
    "version": 3
   },
   "file_extension": ".py",
   "mimetype": "text/x-python",
   "name": "python",
   "nbconvert_exporter": "python",
   "pygments_lexer": "ipython3",
   "version": "3.7.8"
  }
 },
 "nbformat": 4,
 "nbformat_minor": 4
}
