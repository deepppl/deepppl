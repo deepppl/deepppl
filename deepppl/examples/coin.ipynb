{
 "cells": [
  {
   "cell_type": "code",
   "execution_count": 1,
   "metadata": {},
   "outputs": [],
   "source": [
    "%matplotlib inline"
   ]
  },
  {
   "cell_type": "code",
   "execution_count": 2,
   "metadata": {},
   "outputs": [],
   "source": [
    "import pandas as pd\n",
    "import numpy as np\n",
    "from matplotlib import pyplot as plt\n",
    "import seaborn as sns"
   ]
  },
  {
   "cell_type": "code",
   "execution_count": 3,
   "metadata": {},
   "outputs": [],
   "source": [
    "import pyro\n",
    "import deepppl"
   ]
  },
  {
   "cell_type": "code",
   "execution_count": 4,
   "metadata": {},
   "outputs": [],
   "source": [
    "import torch"
   ]
  },
  {
   "cell_type": "markdown",
   "metadata": {},
   "source": [
    "\n",
    "### Basic example showing the interface of *DeepPPL*\n",
    "The model impose a uniform prior to the bias of the coin and define each coin flip as a bernoulli distribution given the bias \n"
   ]
  },
  {
   "cell_type": "code",
   "execution_count": 5,
   "metadata": {},
   "outputs": [],
   "source": [
    "sns.set_style('whitegrid')"
   ]
  },
  {
   "cell_type": "code",
   "execution_count": 6,
   "metadata": {},
   "outputs": [
    {
     "name": "stdout",
     "output_type": "stream",
     "text": [
      "data {\n",
      "  int N;\n",
      "  int<lower=0,upper=1> x[N];\n",
      "}\n",
      "parameters {\n",
      "  real<lower=0,upper=1> z;\n",
      "}\n",
      "model {\n",
      "  z ~ beta(1, 1);\n",
      "  for (i in 1:N)\n",
      "    x[i] ~ bernoulli(z);\n",
      "}\n"
     ]
    }
   ],
   "source": [
    "with open('../tests/good/coin.stan', 'r') as source:\n",
    "    print(source.read())"
   ]
  },
  {
   "cell_type": "code",
   "execution_count": 7,
   "metadata": {},
   "outputs": [],
   "source": [
    "model = deepppl.PyroModel(model_file = '../tests/good/coin.stan')"
   ]
  },
  {
   "cell_type": "code",
   "execution_count": 8,
   "metadata": {},
   "outputs": [
    {
     "name": "stderr",
     "output_type": "stream",
     "text": [
      "Sample: 100%|██████████| 500/500 [00:04, 109.45it/s, step size=1.32e+00, acc. prob=0.782]\n"
     ]
    }
   ],
   "source": [
    "mcmc = model.mcmc(num_samples=500, warmup_steps=50)\n",
    "mcmc.run(N=10, x=[0, 0, 0, 0, 0, 0, 1, 0, 0, 1])\n",
    "serie = mcmc.get_samples()['z']"
   ]
  },
  {
   "cell_type": "code",
   "execution_count": 9,
   "metadata": {},
   "outputs": [
    {
     "data": {
      "image/png": "[encoded data removed]",
      "text/plain": [
       "<Figure size 432x288 with 1 Axes>"
      ]
     },
     "metadata": {},
     "output_type": "display_data"
    }
   ],
   "source": [
    "serie = pd.Series(mcmc.get_samples(), name = r'z')\n",
    "serie.hist(bins=30)\n",
    "plt.title(serie.name);"
   ]
  },
  {
   "cell_type": "code",
   "execution_count": null,
   "metadata": {},
   "outputs": [],
   "source": []
  }
 ],
 "metadata": {
  "kernelspec": {
   "display_name": "Python 3",
   "language": "python",
   "name": "python3"
  },
  "language_info": {
   "codemirror_mode": {
    "name": "ipython",
    "version": 3
   },
   "file_extension": ".py",
   "mimetype": "text/x-python",
   "name": "python",
   "nbconvert_exporter": "python",
   "pygments_lexer": "ipython3",
   "version": "3.7.6"
  }
 },
 "nbformat": 4,
 "nbformat_minor": 2
}
